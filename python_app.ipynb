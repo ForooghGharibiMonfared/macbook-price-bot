{
  "nbformat": 4,
  "nbformat_minor": 0,
  "metadata": {
    "colab": {
      "provenance": [],
      "authorship_tag": "ABX9TyOvOjJFT4QwgW1ixirZgDn3",
      "include_colab_link": true
    },
    "kernelspec": {
      "name": "python3",
      "display_name": "Python 3"
    },
    "language_info": {
      "name": "python"
    }
  },
  "cells": [
    {
      "cell_type": "markdown",
      "metadata": {
        "id": "view-in-github",
        "colab_type": "text"
      },
      "source": [
        "<a href=\"https://colab.research.google.com/github/ForooghGharibiMonfared/macbook-price-bot/blob/main/python_app.ipynb\" target=\"_parent\"><img src=\"https://colab.research.google.com/assets/colab-badge.svg\" alt=\"Open In Colab\"/></a>"
      ]
    },
    {
      "cell_type": "code",
      "source": [
        "import requests\n",
        "from bs4 import BeautifulSoup\n",
        "\n",
        "def fetch_macbook_products():\n",
        "    url = \"https://www.apple.com/shop/buy-mac/macbook-pro\"\n",
        "    headers = {\n",
        "        \"User-Agent\": \"Mozilla/5.0\"\n",
        "    }\n",
        "    response = requests.get(url, headers=headers)\n",
        "    if response.status_code != 200:\n",
        "        print(\"Error fetching the product page!\")\n",
        "        return []\n",
        "\n",
        "    soup = BeautifulSoup(response.text, 'html.parser')\n",
        "    models = []\n",
        "\n",
        "    for div in soup.find_all(\"div\", class_=\"rc-productbundle-details\"):\n",
        "        title_tag = div.find(\"h3\", class_=\"list-title rc-productbundle-title\")\n",
        "        price_tag = div.find(\"div\", class_=\"rc-prices-currentprice\")\n",
        "\n",
        "        if title_tag:\n",
        "            title = title_tag.get_text(strip=True)\n",
        "        else:\n",
        "            title = \"N/A\"\n",
        "\n",
        "        if price_tag:\n",
        "            price = price_tag.get_text(strip=True)\n",
        "        else:\n",
        "            price = \"N/A\"\n",
        "\n",
        "        models.append(f\"{title} — {price}\")\n",
        "\n",
        "    return models\n",
        "\n",
        "if __name__ == \"__main__\":\n",
        "    macbook_models = fetch_macbook_products()\n",
        "    print(\"Available MacBook Pro models:\")\n",
        "    for model in macbook_models:\n",
        "        print(f\"- {model}\")\n"
      ],
      "metadata": {
        "id": "fHr77GbW2NuM",
        "outputId": "2320edcf-a323-4e50-ca37-6d03e5442962",
        "colab": {
          "base_uri": "https://localhost:8080/"
        }
      },
      "execution_count": null,
      "outputs": [
        {
          "output_type": "stream",
          "name": "stdout",
          "text": [
            "Available MacBook Pro models:\n",
            "- Apple M4 chip with 10-core CPU and 10-core GPU512GB Storage — $1,599.00or$133.25/mo.per monthfor 12mo.monthsFootnote*\n",
            "- Apple M4 chip with 10-core CPU and 10-core GPU512GB Storage — $1,599.00or$133.25/mo.per monthfor 12mo.monthsFootnote*\n",
            "- Apple M4 chip with 10-core CPU and 10-core GPU1TB Storage — $1,799.00or$149.91/mo.per monthfor 12mo.monthsFootnote*\n",
            "- Apple M4 chip with 10-core CPU and 10-core GPU1TB Storage — $1,799.00or$149.91/mo.per monthfor 12mo.monthsFootnote*\n",
            "- Apple M4 chip with 10-core CPU and 10-core GPU1TB Storage — $1,999.00or$166.58/mo.per monthfor 12mo.monthsFootnote*\n",
            "- Apple M4 chip with 10-core CPU and 10-core GPU1TB Storage — $1,999.00or$166.58/mo.per monthfor 12mo.monthsFootnote*\n",
            "- Apple M4 Pro chip with 12-core CPU 16-core GPU512GB Storage — $1,999.00or$166.58/mo.per monthfor 12mo.monthsFootnote*\n",
            "- Apple M4 Pro chip with 12-core CPU 16-core GPU512GB Storage — $1,999.00or$166.58/mo.per monthfor 12mo.monthsFootnote*\n",
            "- Apple M4 Pro with 14-core CPU and 20-core GPU1TB Storage — $2,399.00or$199.91/mo.per monthfor 12mo.monthsFootnote*\n",
            "- Apple M4 Pro with 14-core CPU and 20-core GPU1TB Storage — $2,399.00or$199.91/mo.per monthfor 12mo.monthsFootnote*\n",
            "- Apple M4 Max with 14-core CPU 32-core GPU 16-Core Neural Engine1TB Storage — $3,199.00or$266.58/mo.per monthfor 12mo.monthsFootnote*\n",
            "- Apple M4 Max with 14-core CPU 32-core GPU 16-Core Neural Engine1TB Storage — $3,199.00or$266.58/mo.per monthfor 12mo.monthsFootnote*\n",
            "- Apple M4 Pro with 14-core CPU and 20-core GPU512GB Storage — $2,499.00or$208.25/mo.per monthfor 12mo.monthsFootnote*\n",
            "- Apple M4 Pro with 14-core CPU and 20-core GPU512GB Storage — $2,499.00or$208.25/mo.per monthfor 12mo.monthsFootnote*\n",
            "- Apple M4 Pro with 14-core CPU and 20-core GPU512GB Storage — $2,899.00or$241.58/mo.per monthfor 12mo.monthsFootnote*\n",
            "- Apple M4 Pro with 14-core CPU and 20-core GPU512GB Storage — $2,899.00or$241.58/mo.per monthfor 12mo.monthsFootnote*\n",
            "- Apple M4 Max with 14-core CPU 32-core GPU 16-Core Neural Engine1TB Storage — $3,499.00or$291.58/mo.per monthfor 12mo.monthsFootnote*\n",
            "- Apple M4 Max with 14-core CPU 32-core GPU 16-Core Neural Engine1TB Storage — $3,499.00or$291.58/mo.per monthfor 12mo.monthsFootnote*\n",
            "- Apple M4 Max with 16-core CPU and 40-core GPU1TB Storage — $3,999.00or$333.25/mo.per monthfor 12mo.monthsFootnote*\n",
            "- Apple M4 Max with 16-core CPU and 40-core GPU1TB Storage — $3,999.00or$333.25/mo.per monthfor 12mo.monthsFootnote*\n"
          ]
        }
      ]
    }
  ]
}